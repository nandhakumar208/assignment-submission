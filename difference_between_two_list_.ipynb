{
  "nbformat": 4,
  "nbformat_minor": 0,
  "metadata": {
    "colab": {
      "name": "difference between two list .ipynb",
      "provenance": []
    },
    "kernelspec": {
      "name": "python3",
      "display_name": "Python 3"
    }
  },
  "cells": [
    {
      "cell_type": "code",
      "metadata": {
        "colab": {
          "base_uri": "https://localhost:8080/"
        },
        "id": "xVpLkB8e4UQ0",
        "outputId": "199917f5-4576-4353-a450-8f7984aa52b6"
      },
      "source": [
        "li1 = [10, 15, 20, 25, 30, 35, 40]\r\n",
        "li2 = [25, 40, 35]\r\n",
        "diff = (list(list(set(li1) - set(li2)) + list(set(li2) - set(li1))))\r\n",
        "print(diff)"
      ],
      "execution_count": 18,
      "outputs": [
        {
          "output_type": "stream",
          "text": [
            "[10, 20, 30, 15]\n"
          ],
          "name": "stdout"
        }
      ]
    }
  ]
}
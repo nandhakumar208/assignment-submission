{
  "nbformat": 4,
  "nbformat_minor": 0,
  "metadata": {
    "colab": {
      "name": "creating a dictionaries .ipynb",
      "provenance": []
    },
    "kernelspec": {
      "name": "python3",
      "display_name": "Python 3"
    }
  },
  "cells": [
    {
      "cell_type": "code",
      "metadata": {
        "colab": {
          "base_uri": "https://localhost:8080/"
        },
        "id": "xVpLkB8e4UQ0",
        "outputId": "e6c1dd44-b3f3-4025-c24b-1b151a401b86"
      },
      "source": [
        "number = int(input(\"Please enter the Maximum Number : \"))\r\n",
        "myDict = {}\r\n",
        "\r\n",
        "for x in range(1, number + 1):\r\n",
        "    myDict[x] = x * x\r\n",
        "\r\n",
        "print(\"\\nDictionary = \", myDict)"
      ],
      "execution_count": 33,
      "outputs": [
        {
          "output_type": "stream",
          "text": [
            "Please enter the Maximum Number : 5\n",
            "\n",
            "Dictionary =  {1: 1, 2: 4, 3: 9, 4: 16, 5: 25}\n"
          ],
          "name": "stdout"
        }
      ]
    }
  ]
}
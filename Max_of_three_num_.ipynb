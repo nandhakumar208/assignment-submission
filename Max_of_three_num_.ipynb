{
  "nbformat": 4,
  "nbformat_minor": 0,
  "metadata": {
    "colab": {
      "name": "Max of three num .ipynb",
      "provenance": []
    },
    "kernelspec": {
      "name": "python3",
      "display_name": "Python 3"
    }
  },
  "cells": [
    {
      "cell_type": "code",
      "metadata": {
        "id": "xVpLkB8e4UQ0",
        "colab": {
          "base_uri": "https://localhost:8080/"
        },
        "outputId": "a0aa464f-4417-42c4-fde5-ec844fbc8da8"
      },
      "source": [
        "def maximum(a, b, c): \r\n",
        "  \r\n",
        "    if (a >= b) and (a >= c): \r\n",
        "        largest = a \r\n",
        "  \r\n",
        "    elif (b >= a) and (b >= c): \r\n",
        "        largest = b \r\n",
        "    else: \r\n",
        "        largest = c \r\n",
        "          \r\n",
        "    return largest \r\n",
        "  \r\n",
        "  \r\n",
        "# Driven code  \r\n",
        "a = 10\r\n",
        "b = 14\r\n",
        "c = 12\r\n",
        "print(maximum(a, b, c)) "
      ],
      "execution_count": 1,
      "outputs": [
        {
          "output_type": "stream",
          "text": [
            "14\n"
          ],
          "name": "stdout"
        }
      ]
    },
    {
      "cell_type": "code",
      "metadata": {
        "id": "ck4BQhg78GsA"
      },
      "source": [
        ""
      ],
      "execution_count": null,
      "outputs": []
    },
    {
      "cell_type": "code",
      "metadata": {
        "id": "h68zgENj8I2g"
      },
      "source": [
        ""
      ],
      "execution_count": null,
      "outputs": []
    }
  ]
}
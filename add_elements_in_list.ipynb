{
  "nbformat": 4,
  "nbformat_minor": 0,
  "metadata": {
    "colab": {
      "name": "add elements in list.ipynb",
      "provenance": []
    },
    "kernelspec": {
      "name": "python3",
      "display_name": "Python 3"
    }
  },
  "cells": [
    {
      "cell_type": "code",
      "metadata": {
        "id": "xVpLkB8e4UQ0",
        "colab": {
          "base_uri": "https://localhost:8080/"
        },
        "outputId": "5068716e-51da-426a-de98-628b9c4829bc"
      },
      "source": [
        "def add_elem_in_list(list1):\r\n",
        "    total = 0\r\n",
        "    for ele in range(0, len(list1)):\r\n",
        "        total = total + list1[ele]\r\n",
        "    print(\"Sum of all elements in given list: \", total)\r\n",
        "list1 = [11, 5, 17, 18, 23]\r\n",
        "add_elem_in_list(list1)"
      ],
      "execution_count": 4,
      "outputs": [
        {
          "output_type": "stream",
          "text": [
            "Sum of all elements in given list:  74\n"
          ],
          "name": "stdout"
        }
      ]
    },
    {
      "cell_type": "code",
      "metadata": {
        "id": "ck4BQhg78GsA"
      },
      "source": [
        ""
      ],
      "execution_count": null,
      "outputs": []
    },
    {
      "cell_type": "code",
      "metadata": {
        "id": "h68zgENj8I2g"
      },
      "source": [
        ""
      ],
      "execution_count": null,
      "outputs": []
    }
  ]
}
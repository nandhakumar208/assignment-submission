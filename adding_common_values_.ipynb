{
  "nbformat": 4,
  "nbformat_minor": 0,
  "metadata": {
    "colab": {
      "name": "adding common values .ipynb",
      "provenance": []
    },
    "kernelspec": {
      "name": "python3",
      "display_name": "Python 3"
    }
  },
  "cells": [
    {
      "cell_type": "code",
      "metadata": {
        "colab": {
          "base_uri": "https://localhost:8080/"
        },
        "id": "xVpLkB8e4UQ0",
        "outputId": "fa7bca9b-85b1-45e6-c293-9168e67d5d85"
      },
      "source": [
        "dict1 = {'name': 12, 'for': 25, 'c': 9}\r\n",
        "dict2 = {'name': 100, 'bangs': 200, 'for': 300}\r\n",
        "\r\n",
        "# adding the values with common key\r\n",
        "for key in dict2:\r\n",
        "    if key in dict1:\r\n",
        "        dict2[key] = dict2[key] + dict1[key]\r\n",
        "    else:\r\n",
        "        pass\r\n",
        "\r\n",
        "print(dict2) "
      ],
      "execution_count": 34,
      "outputs": [
        {
          "output_type": "stream",
          "text": [
            "{'name': 112, 'bangs': 200, 'for': 325}\n"
          ],
          "name": "stdout"
        }
      ]
    }
  ]
}
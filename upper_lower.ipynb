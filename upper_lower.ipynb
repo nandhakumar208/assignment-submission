{
  "nbformat": 4,
  "nbformat_minor": 0,
  "metadata": {
    "colab": {
      "name": "upper lower.ipynb",
      "provenance": []
    },
    "kernelspec": {
      "name": "python3",
      "display_name": "Python 3"
    }
  },
  "cells": [
    {
      "cell_type": "code",
      "metadata": {
        "id": "xVpLkB8e4UQ0",
        "colab": {
          "base_uri": "https://localhost:8080/"
        },
        "outputId": "0fcfc545-c687-4a62-af08-2ca8e670a71c"
      },
      "source": [
        "def upperlower(string):\r\n",
        "    upper = 0\r\n",
        "    lower = 0\r\n",
        "\r\n",
        "    for i in range(len(string)):\r\n",
        "\r\n",
        "        # For lower letters \r\n",
        "        if (ord(string[i]) >= 97 and\r\n",
        "                ord(string[i]) <= 122):\r\n",
        "            lower += 1\r\n",
        "\r\n",
        "        # For upper letters \r\n",
        "        elif (ord(string[i]) >= 65 and\r\n",
        "              ord(string[i]) <= 90):\r\n",
        "            upper += 1\r\n",
        "\r\n",
        "    print('Lower case characters = %s' % lower)\r\n",
        "    print('Upper case characters = %s' % upper)\r\n",
        "\r\n",
        "string =input(\"enter a word:\")\r\n",
        "upperlower(string) "
      ],
      "execution_count": 3,
      "outputs": [
        {
          "output_type": "stream",
          "text": [
            "enter a word:nhJKIm\n",
            "Lower case characters = 3\n",
            "Upper case characters = 3\n"
          ],
          "name": "stdout"
        }
      ]
    },
    {
      "cell_type": "code",
      "metadata": {
        "id": "ck4BQhg78GsA"
      },
      "source": [
        ""
      ],
      "execution_count": null,
      "outputs": []
    },
    {
      "cell_type": "code",
      "metadata": {
        "id": "h68zgENj8I2g"
      },
      "source": [
        ""
      ],
      "execution_count": null,
      "outputs": []
    }
  ]
}
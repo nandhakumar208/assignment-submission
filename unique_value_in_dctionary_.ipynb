{
  "nbformat": 4,
  "nbformat_minor": 0,
  "metadata": {
    "colab": {
      "name": "unique value in dctionary .ipynb",
      "provenance": []
    },
    "kernelspec": {
      "name": "python3",
      "display_name": "Python 3"
    }
  },
  "cells": [
    {
      "cell_type": "code",
      "metadata": {
        "colab": {
          "base_uri": "https://localhost:8080/"
        },
        "id": "xVpLkB8e4UQ0",
        "outputId": "0a50f189-2d1a-44cb-acec-568bb8a1f0fb"
      },
      "source": [
        "dict = {\"V\":\"S001\", \"V\": \"S002\", \"VI\": \"S001\", \"VI\": \"S005\", \"VII\":\"S005\",\"V\":\"S009\",\"VIII\":\"S007\"}\r\n",
        "list =[] # create empty list\r\n",
        "for val in dict.values():\r\n",
        "  if val in list:\r\n",
        "    continue\r\n",
        "  else:\r\n",
        "    list.append(val)\r\n",
        "\r\n",
        "print (list)"
      ],
      "execution_count": 35,
      "outputs": [
        {
          "output_type": "stream",
          "text": [
            "['S009', 'S005', 'S007']\n"
          ],
          "name": "stdout"
        }
      ]
    }
  ]
}
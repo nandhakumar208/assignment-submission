{
  "nbformat": 4,
  "nbformat_minor": 0,
  "metadata": {
    "colab": {
      "name": "user login.ipynb",
      "provenance": []
    },
    "kernelspec": {
      "name": "python3",
      "display_name": "Python 3"
    }
  },
  "cells": [
    {
      "cell_type": "code",
      "metadata": {
        "colab": {
          "base_uri": "https://localhost:8080/"
        },
        "id": "xVpLkB8e4UQ0",
        "outputId": "82b531cd-7c50-4965-994a-a01d7ad9d777"
      },
      "source": [
        "user_name = \"hello\"\r\n",
        "password = \"world\"\r\n",
        "\r\n",
        "count = 1\r\n",
        "\r\n",
        "name = input(\"enter user name:\")\r\n",
        "while user_name != name and count !=5:\r\n",
        "\r\n",
        "    name = input(\"enter user name:\")\r\n",
        "    count +=1\r\n",
        "    if name !=user_name and count ==5:\r\n",
        "        break;\r\n",
        "if name !=user_name and count==5:\r\n",
        "    print(\"oh! exceeded limit allowable limit is 5\")\r\n",
        "    print(\"try after 10 minutes\")\r\n",
        "else:\r\n",
        "    count =0\r\n",
        "if count!=5:\r\n",
        "    passw = input(\"enter password:\")\r\n",
        "\r\n",
        "    while password != passw and count!=5:\r\n",
        "\r\n",
        "        passw = input(\"enter password:\")\r\n",
        "        count +=1\r\n",
        "    if password == passw:\r\n",
        "      print()\r\n",
        "      print(\"SUCCESSFULLY LOGGEDIN\")\r\n",
        "    if count==5:\r\n",
        "      print(\"oh! exceeded limit allowable limit is 5\")\r\n",
        "      print(\"try after 10 minutes\")\r\n",
        "\r\n"
      ],
      "execution_count": 11,
      "outputs": [
        {
          "output_type": "stream",
          "text": [
            "enter user name:hello\n",
            "enter password:world\n",
            "\n",
            "SUCCESSFULLY LOGGEDIN\n"
          ],
          "name": "stdout"
        }
      ]
    }
  ]
}
{
  "nbformat": 4,
  "nbformat_minor": 0,
  "metadata": {
    "colab": {
      "name": "finding the frequency in list .ipynb",
      "provenance": []
    },
    "kernelspec": {
      "name": "python3",
      "display_name": "Python 3"
    }
  },
  "cells": [
    {
      "cell_type": "code",
      "metadata": {
        "colab": {
          "base_uri": "https://localhost:8080/"
        },
        "id": "xVpLkB8e4UQ0",
        "outputId": "b1558a09-e268-46e9-ee73-fee7d966007b"
      },
      "source": [
        "my_list =[1, 1, 1, 5, 5, 3, 1, 3, 3, 1, 4, 4, 4, 2, 2, 2, 2]\r\n",
        "lis = set(my_list)\r\n",
        "l = list(lis)\r\n",
        "n = len(lis)\r\n",
        "for i in range(0,n):\r\n",
        "    print(l[i],\"occours\",my_list.count(l[i]),\"times\")\r\n",
        "\r\n"
      ],
      "execution_count": 19,
      "outputs": [
        {
          "output_type": "stream",
          "text": [
            "1 occours 5 times\n",
            "2 occours 4 times\n",
            "3 occours 3 times\n",
            "4 occours 3 times\n",
            "5 occours 2 times\n"
          ],
          "name": "stdout"
        }
      ]
    }
  ]
}
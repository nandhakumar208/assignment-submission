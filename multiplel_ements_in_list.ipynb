{
  "nbformat": 4,
  "nbformat_minor": 0,
  "metadata": {
    "colab": {
      "name": "multiplel ements in list.ipynb",
      "provenance": []
    },
    "kernelspec": {
      "name": "python3",
      "display_name": "Python 3"
    }
  },
  "cells": [
    {
      "cell_type": "code",
      "metadata": {
        "id": "xVpLkB8e4UQ0",
        "colab": {
          "base_uri": "https://localhost:8080/"
        },
        "outputId": "8da9c869-392c-48a0-eda4-0cff834529e8"
      },
      "source": [
        "def multiplyList(List1):\r\n",
        "    # Multiply elements one by one\r\n",
        "    result = 1\r\n",
        "    for x in List1:\r\n",
        "        result = result * x\r\n",
        "    return result\r\n",
        "list1 = [1, 2, 3, 4, 5]\r\n",
        "print(multiplyList(list1))\r\n"
      ],
      "execution_count": 6,
      "outputs": [
        {
          "output_type": "stream",
          "text": [
            "120\n"
          ],
          "name": "stdout"
        }
      ]
    },
    {
      "cell_type": "code",
      "metadata": {
        "id": "ck4BQhg78GsA"
      },
      "source": [
        ""
      ],
      "execution_count": null,
      "outputs": []
    },
    {
      "cell_type": "code",
      "metadata": {
        "id": "h68zgENj8I2g"
      },
      "source": [
        ""
      ],
      "execution_count": null,
      "outputs": []
    }
  ]
}
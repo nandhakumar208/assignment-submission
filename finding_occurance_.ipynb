{
  "nbformat": 4,
  "nbformat_minor": 0,
  "metadata": {
    "colab": {
      "name": "finding occurance .ipynb",
      "provenance": []
    },
    "kernelspec": {
      "name": "python3",
      "display_name": "Python 3"
    }
  },
  "cells": [
    {
      "cell_type": "code",
      "metadata": {
        "colab": {
          "base_uri": "https://localhost:8080/"
        },
        "id": "xVpLkB8e4UQ0",
        "outputId": "68d8d16e-72f8-4943-8623-3510d6c91397"
      },
      "source": [
        "string = input(\"Enter string:\")\r\n",
        "word = input(\"Enter word:\")\r\n",
        "a=[]\r\n",
        "count=0\r\n",
        "a=string.split(\" \")\r\n",
        "for i in range(0,len(a)):\r\n",
        "      if(word==a[i]):\r\n",
        "            count=count+1\r\n",
        "print(\"Count of the word is:\")\r\n",
        "print(count)"
      ],
      "execution_count": 25,
      "outputs": [
        {
          "output_type": "stream",
          "text": [
            "Enter string:hello world\n",
            "Enter word:world\n",
            "Count of the word is:\n",
            "1\n"
          ],
          "name": "stdout"
        }
      ]
    }
  ]
}
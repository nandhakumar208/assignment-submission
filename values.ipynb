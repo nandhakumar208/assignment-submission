{
  "nbformat": 4,
  "nbformat_minor": 0,
  "metadata": {
    "colab": {
      "name": "values.ipynb",
      "provenance": []
    },
    "kernelspec": {
      "name": "python3",
      "display_name": "Python 3"
    }
  },
  "cells": [
    {
      "cell_type": "code",
      "metadata": {
        "colab": {
          "base_uri": "https://localhost:8080/"
        },
        "id": "xVpLkB8e4UQ0",
        "outputId": "f8b0d6dd-9778-4d16-9f02-450e8cddb965"
      },
      "source": [
        "x =5\r\n",
        "a =((2*x)+5)/((x*x)+(5*x)+6)\r\n",
        "b =((x*x)+(5*x)+6)/((2*x)+5)\r\n",
        "c = ((2*x)-3)*(x+9)\r\n",
        "print(\"value of ((2*x)+5)/((x*x)+(5*x)+6) is:\",a)\r\n",
        "print(\"value of ((x*x)+(5*x)+6)/((2*x)+5) is:\",b)\r\n",
        "print(\"value of ((2*x)-3)*(x+9) is:\",c)"
      ],
      "execution_count": 12,
      "outputs": [
        {
          "output_type": "stream",
          "text": [
            "value of ((2*x)+5)/((x*x)+(5*x)+6) is: 0.26785714285714285\n",
            "value of ((x*x)+(5*x)+6)/((2*x)+5) is: 3.7333333333333334\n",
            "value of ((2*x)-3)*(x+9) is: 98\n"
          ],
          "name": "stdout"
        }
      ]
    }
  ]
}
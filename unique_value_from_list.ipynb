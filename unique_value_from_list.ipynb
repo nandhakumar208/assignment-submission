{
  "nbformat": 4,
  "nbformat_minor": 0,
  "metadata": {
    "colab": {
      "name": "unique value from list.ipynb",
      "provenance": []
    },
    "kernelspec": {
      "name": "python3",
      "display_name": "Python 3"
    }
  },
  "cells": [
    {
      "cell_type": "code",
      "metadata": {
        "id": "xVpLkB8e4UQ0",
        "colab": {
          "base_uri": "https://localhost:8080/"
        },
        "outputId": "ab93833d-9f5d-4c1e-fd5a-f8e36584350d"
      },
      "source": [
        "def unique(list1):\r\n",
        "    new_list = []\r\n",
        "\r\n",
        "    # traverse for all elements\r\n",
        "    for x in list1:\r\n",
        "        # check if exists in unique_list or not\r\n",
        "        if x not in new_list:\r\n",
        "            new_list.append(x)\r\n",
        "            # print list\r\n",
        "\r\n",
        "    print(new_list)\r\n",
        "\r\n",
        "#Drive code\r\n",
        "list1 = [10, 20, 10, 30, 40, 40]\r\n",
        "\r\n",
        "print(\"the unique values from list is\")\r\n",
        "unique(list1)\r\n"
      ],
      "execution_count": 7,
      "outputs": [
        {
          "output_type": "stream",
          "text": [
            "the unique values from list is\n",
            "[10, 20, 30, 40]\n"
          ],
          "name": "stdout"
        }
      ]
    },
    {
      "cell_type": "code",
      "metadata": {
        "id": "ck4BQhg78GsA"
      },
      "source": [
        ""
      ],
      "execution_count": null,
      "outputs": []
    },
    {
      "cell_type": "code",
      "metadata": {
        "id": "h68zgENj8I2g"
      },
      "source": [
        ""
      ],
      "execution_count": null,
      "outputs": []
    }
  ]
}
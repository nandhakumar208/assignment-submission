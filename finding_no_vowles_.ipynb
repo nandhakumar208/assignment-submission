{
  "nbformat": 4,
  "nbformat_minor": 0,
  "metadata": {
    "colab": {
      "name": "finding no vowles .ipynb",
      "provenance": []
    },
    "kernelspec": {
      "name": "python3",
      "display_name": "Python 3"
    }
  },
  "cells": [
    {
      "cell_type": "code",
      "metadata": {
        "colab": {
          "base_uri": "https://localhost:8080/"
        },
        "id": "xVpLkB8e4UQ0",
        "outputId": "fb96dd58-df7f-4d07-d26c-0c71d4237451"
      },
      "source": [
        "str =input(\"ENTER A WORD IN UPPER CASE:\")\r\n",
        "\r\n",
        "count = 0\r\n",
        "vowel = set(\"AEIOU\")\r\n",
        "for alphabet in str:\r\n",
        "    if alphabet in vowel:\r\n",
        "        count = count + 1\r\n",
        "print(\"No. of vowels :\", count)\r\n",
        "\r\n",
        "\r\n",
        "\r\n",
        "\r\n",
        "\r\n",
        "\r\n"
      ],
      "execution_count": 32,
      "outputs": [
        {
          "output_type": "stream",
          "text": [
            "ENTER A WORD IN UPPER CASE:KOIUAG\n",
            "No. of vowels : 4\n"
          ],
          "name": "stdout"
        }
      ]
    }
  ]
}
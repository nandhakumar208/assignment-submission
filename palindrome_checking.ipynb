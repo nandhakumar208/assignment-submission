{
  "nbformat": 4,
  "nbformat_minor": 0,
  "metadata": {
    "colab": {
      "name": "palindrome checking.ipynb",
      "provenance": []
    },
    "kernelspec": {
      "name": "python3",
      "display_name": "Python 3"
    }
  },
  "cells": [
    {
      "cell_type": "code",
      "metadata": {
        "id": "xVpLkB8e4UQ0",
        "colab": {
          "base_uri": "https://localhost:8080/"
        },
        "outputId": "13738d56-7eee-4adc-b31b-a96be7148514"
      },
      "source": [
        "def is_palindrome(a):\r\n",
        "    n  = len(a)//2+1\r\n",
        "    count =0\r\n",
        "    for i in range(0,n):\r\n",
        "        k = i+1\r\n",
        "        if a[i] == a[-k]:\r\n",
        "            #print(\"yes\")\r\n",
        "            #print(a[i]  ,a[-k])\r\n",
        "            count +=1\r\n",
        "    if count == n:\r\n",
        "        print(\"yes, entered word is palindrome\")\r\n",
        "    else:\r\n",
        "        print(\"No,it is not a palindrome\")\r\n",
        "a = input(\"enter a word for check palindrome:\")\r\n",
        "\r\n",
        "is_palindrome(a)"
      ],
      "execution_count": 2,
      "outputs": [
        {
          "output_type": "stream",
          "text": [
            "enter a word for check palindrome:kanninnak\n",
            "yes, entered word is palindrome\n"
          ],
          "name": "stdout"
        }
      ]
    },
    {
      "cell_type": "code",
      "metadata": {
        "id": "ck4BQhg78GsA"
      },
      "source": [
        ""
      ],
      "execution_count": null,
      "outputs": []
    },
    {
      "cell_type": "code",
      "metadata": {
        "id": "h68zgENj8I2g"
      },
      "source": [
        ""
      ],
      "execution_count": null,
      "outputs": []
    }
  ]
}
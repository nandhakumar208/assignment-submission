{
  "nbformat": 4,
  "nbformat_minor": 0,
  "metadata": {
    "colab": {
      "name": "computing_similarities .ipynb",
      "provenance": []
    },
    "kernelspec": {
      "name": "python3",
      "display_name": "Python 3"
    }
  },
  "cells": [
    {
      "cell_type": "code",
      "metadata": {
        "colab": {
          "base_uri": "https://localhost:8080/"
        },
        "id": "xVpLkB8e4UQ0",
        "outputId": "8bcc39cd-fd52-4864-d45d-3fd0964acf36"
      },
      "source": [
        "list_1 = [\"red\", \"orange\", \"green\", \"blue\", \"white\"]\r\n",
        "list_2 = [\"black\", \"yellow\", \"green\", \"blue\"]\r\n",
        "final = []\r\n",
        "n = len(list_1)\r\n",
        "k = len(list_2)\r\n",
        "for i in range(0,n):\r\n",
        "    for j in range(0,k):\r\n",
        "        if list_1[i] == list_2[j]:\r\n",
        "            final.append(list_1[i])\r\n",
        "s = len(final)\r\n",
        "for h in range(0,s):\r\n",
        "    list_1.remove(final[h])\r\n",
        "    list_2.remove(final[h])\r\n",
        "print(\" Color1-Color2:\",list_1)\r\n",
        "print(\"Color2-Color1:\",list_2)"
      ],
      "execution_count": 22,
      "outputs": [
        {
          "output_type": "stream",
          "text": [
            " Color1-Color2: ['red', 'orange', 'white']\n",
            "Color2-Color1: ['black', 'yellow']\n"
          ],
          "name": "stdout"
        }
      ]
    }
  ]
}
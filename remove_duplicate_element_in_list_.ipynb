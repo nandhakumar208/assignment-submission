{
  "nbformat": 4,
  "nbformat_minor": 0,
  "metadata": {
    "colab": {
      "name": "remove duplicate element in list .ipynb",
      "provenance": []
    },
    "kernelspec": {
      "name": "python3",
      "display_name": "Python 3"
    }
  },
  "cells": [
    {
      "cell_type": "code",
      "metadata": {
        "colab": {
          "base_uri": "https://localhost:8080/"
        },
        "id": "xVpLkB8e4UQ0",
        "outputId": "69a6ff81-cb51-436a-9209-f7e9433c918d"
      },
      "source": [
        "lis = ['Hello', 'Ok', 'is', 'Ok', 'test', 'this', 'is', 'a', 'test']\r\n",
        "final_list = []\r\n",
        "for num in lis:\r\n",
        "    if num not in final_list:\r\n",
        "        final_list.append(num)\r\n",
        "print(final_list)"
      ],
      "execution_count": 17,
      "outputs": [
        {
          "output_type": "stream",
          "text": [
            "['Hello', 'Ok', 'is', 'test', 'this', 'a']\n"
          ],
          "name": "stdout"
        }
      ]
    }
  ]
}